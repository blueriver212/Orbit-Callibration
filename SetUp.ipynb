{
 "cells": [
  {
   "cell_type": "markdown",
   "metadata": {},
   "source": [
    "# Orbit Calibration Set Up  \n",
    "This notebook will download the relevant data from space-track from the sp3 files that you provide. This will be then stored in the rawdata folder that can then be used for the calibration analysis. "
   ]
  },
  {
   "cell_type": "code",
   "execution_count": 10,
   "metadata": {},
   "outputs": [],
   "source": [
    "import os\n",
    "import sp3\n",
    "from datetime import datetime, timedelta\n",
    "from dotenv import load_dotenv\n",
    "import requests\n",
    "import json\n",
    "import spacetrack.operators as op\n",
    "from spacetrack import SpaceTrackClient\n",
    "import pickle\n",
    "import gzip\n",
    "import shutil\n",
    "\n",
    "st = SpaceTrackClient(identity='indigo.brownhall.20@ucl.ac.uk', password='Greeningplant123!')"
   ]
  },
  {
   "cell_type": "code",
   "execution_count": 18,
   "metadata": {},
   "outputs": [
    {
     "name": "stdout",
     "output_type": "stream",
     "text": [
      "['GFZOP_RSO_L64_G_20231225_220000_20231226_120000_v03.sp3'] ['GFZOP_RSO_L65_G_20231225_220000_20231226_120000_v03.sp3']\n",
      "Start date: 2023-12-23 21:59:42+00:00\n",
      "End date: 2023-12-28 12:00:12+00:00\n"
     ]
    }
   ],
   "source": [
    "# manually fill out the folder where your s3 data for grace-fo-1 and grace-fo-2 is stored\n",
    "RawDataFolderName = 'v3'\n",
    "fileType = \"sp3\"\n",
    "\n",
    "# get the current working directory\n",
    "cwd = os.getcwd()\n",
    "RawDataFolder = os.path.join(cwd, 'RawData', RawDataFolderName)\n",
    "\n",
    "# get all the files in the RawDataFolder\n",
    "files = os.listdir(RawDataFolder)\n",
    "\n",
    "for filename in os.listdir(RawDataFolder):\n",
    "        # Check if the file is a .gz file\n",
    "        if filename.endswith('.gz'):\n",
    "            gz_file_path = os.path.join(RawDataFolder, filename)\n",
    "            output_file_path = os.path.join(RawDataFolder, filename[:-3])  # Remove '.gz'\n",
    "\n",
    "            # Check if the uncompressed file already exists\n",
    "            if not os.path.exists(output_file_path):\n",
    "                # Unzip the file\n",
    "                with gzip.open(gz_file_path, 'rb') as f_in:\n",
    "                    with open(output_file_path, 'wb') as f_out:\n",
    "                        shutil.copyfileobj(f_in, f_out)\n",
    "                print(f\"Unzipped {filename} in {files}\")\n",
    "            else:\n",
    "                print(f\"File already unzipped: {filename[:-3]}\")\n",
    "\n",
    "            # Delete the .gz file\n",
    "            os.remove(gz_file_path)\n",
    "\n",
    "if fileType == \"pickle\":\n",
    "    sp3files = [file for file in files if file.endswith('.pkl')]\n",
    "    grace1Name = [file for file in sp3files if 'L64' in file]\n",
    "    grace2Name = [file for file in sp3files if 'L65' in file]\n",
    "    with open(os.path.join(os.getcwd(), 'RawData', RawDataFolder, grace1Name[0]), 'rb') as file:\n",
    "        grace1 = pickle.load(file)\n",
    "    # same for grace2\n",
    "    with open(os.path.join(os.getcwd(), 'RawData', RawDataFolder, grace2Name[0]), 'rb') as file:\n",
    "        grace2 = pickle.load(file)\n",
    "\n",
    "    start_date = min(grace1[0].time, grace2[0].time) - timedelta(days=2)\n",
    "    end_date = min(grace1[-1].time, grace2[-1].time) + timedelta(days=2)\n",
    "\n",
    "    print('Start date: {}'.format(start_date))\n",
    "    print('End date: {}'.format(end_date))\n",
    "\n",
    "if fileType == 'sp3':\n",
    "    sp3files = [file for file in files if file.endswith('.sp3')]\n",
    "    grace1Name = [file for file in sp3files if 'L64' in file]\n",
    "    grace2Name = [file for file in sp3files if 'L65' in file]\n",
    "    print(\n",
    "        grace1Name, grace2Name\n",
    "    )\n",
    "    grace1 = sp3.Product.from_file(os.path.join(os.getcwd(), 'RawData', RawDataFolder, grace1Name[0]))\n",
    "    grace2 = sp3.Product.from_file(os.path.join(os.getcwd(), 'RawData', RawDataFolder, grace2Name[0]))\n",
    "\n",
    "    # get the start and date\n",
    "    start_date = min(grace1.satellites[0].records[0].time, grace2.satellites[0].records[0].time) - timedelta(days=2)\n",
    "    end_date = max(grace1.satellites[0].records[-1].time, grace2.satellites[0].records[-1].time) + timedelta(days=2)\n",
    "\n",
    "    print('Start date: {}'.format(start_date))\n",
    "    print('End date: {}'.format(end_date))"
   ]
  },
  {
   "cell_type": "code",
   "execution_count": 19,
   "metadata": {},
   "outputs": [
    {
     "data": {
      "text/plain": [
       "'>2023-12-23 21:59:42&<2023-12-28 12:00:12'"
      ]
     },
     "execution_count": 19,
     "metadata": {},
     "output_type": "execute_result"
    }
   ],
   "source": [
    "start_date.strftime('%Y-%m-%d %H:%M:%S')\n",
    "epoch=f\">{start_date.strftime('%Y-%m-%d %H:%M:%S')}&<{end_date.strftime('%Y-%m-%d %H:%M:%S')}\"\n",
    "epoch"
   ]
  },
  {
   "cell_type": "code",
   "execution_count": 20,
   "metadata": {},
   "outputs": [],
   "source": [
    "# need to update the date to take out the time to be dynamic\n",
    "grace1_tle = st.tle(norad_cat_id=43476, epoch=f\">{start_date.strftime('%Y-%m-%d %H:%M:%S')}&<{end_date.strftime('%Y-%m-%d %H:%M:%S')}\",orderby='epoch asc', format='json')\n",
    "grace2_tle = st.tle(norad_cat_id=43477, epoch=f\">{start_date.strftime('%Y-%m-%d %H:%M:%S')}&<{end_date.strftime('%Y-%m-%d %H:%M:%S')}\",orderby='epoch asc', format='json')\n",
    "\n",
    "# save in the RawData folder with a name of grace-fo-1-tle-43476.json\n",
    "with open(os.path.join(RawDataFolder, 'grace-fo-1-tle-43476.json'), 'w') as f:\n",
    "    f.write(grace1_tle)\n",
    "\n",
    "with open(os.path.join(RawDataFolder, 'grace-fo-2-tle-43477.json'), 'w') as f:\n",
    "    f.write(grace2_tle)"
   ]
  }
 ],
 "metadata": {
  "kernelspec": {
   "display_name": "fspsim",
   "language": "python",
   "name": "python3"
  },
  "language_info": {
   "codemirror_mode": {
    "name": "ipython",
    "version": 3
   },
   "file_extension": ".py",
   "mimetype": "text/x-python",
   "name": "python",
   "nbconvert_exporter": "python",
   "pygments_lexer": "ipython3",
   "version": "3.9.18"
  }
 },
 "nbformat": 4,
 "nbformat_minor": 2
}
