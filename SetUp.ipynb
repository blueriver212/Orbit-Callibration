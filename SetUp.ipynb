{
 "cells": [
  {
   "cell_type": "markdown",
   "metadata": {},
   "source": [
    "# Orbit Calibration Set Up  \n",
    "This notebook will download the relevant data from space-track from the sp3 files that you provide. This will be then stored in the rawdata folder that can then be used for the calibration analysis. "
   ]
  },
  {
   "cell_type": "code",
   "execution_count": 45,
   "metadata": {},
   "outputs": [],
   "source": [
    "import os\n",
    "import sp3\n",
    "from datetime import datetime, timedelta\n",
    "from dotenv import load_dotenv\n",
    "import requests\n",
    "import json\n",
    "import spacetrack.operators as op\n",
    "from spacetrack import SpaceTrackClient\n",
    "import pickle\n",
    "\n",
    "st = SpaceTrackClient(identity='indigo.brownhall.20@ucl.ac.uk', password='Greeningplant123!')"
   ]
  },
  {
   "cell_type": "code",
   "execution_count": 37,
   "metadata": {},
   "outputs": [
    {
     "name": "stdout",
     "output_type": "stream",
     "text": [
      "Start date: 2023-09-22 09:59:42+00:00\n",
      "End date: 2023-09-27 00:00:12+00:00\n"
     ]
    }
   ],
   "source": [
    "# manually fill out the folder where your s3 data for grace-fo-1 and grace-fo-2 is stored\n",
    "RawDataFolderName = 'v1'\n",
    "fileType = \"sp3\"\n",
    "\n",
    "# get the current working directory\n",
    "cwd = os.getcwd()\n",
    "RawDataFolder = os.path.join(cwd, 'RawData', RawDataFolderName)\n",
    "\n",
    "# get all the files in the RawDataFolder\n",
    "files = os.listdir(RawDataFolder)\n",
    "\n",
    "if fileType == \"pickle\":\n",
    "    sp3files = [file for file in files if file.endswith('.pkl')]\n",
    "    grace1Name = [file for file in sp3files if 'L64' in file]\n",
    "    grace2Name = [file for file in sp3files if 'L65' in file]\n",
    "    with open(os.path.join(os.getcwd(), 'RawData', RawDataFolder, grace1Name[0]), 'rb') as file:\n",
    "        grace1 = pickle.load(file)\n",
    "    # same for grace2\n",
    "    with open(os.path.join(os.getcwd(), 'RawData', RawDataFolder, grace2Name[0]), 'rb') as file:\n",
    "        grace2 = pickle.load(file)\n",
    "\n",
    "    start_date = min(grace1[0].time, grace2[0].time) - timedelta(days=2)\n",
    "    end_date = min(grace1[-1].time, grace2[-1].time) + timedelta(days=2)\n",
    "\n",
    "    print('Start date: {}'.format(start_date))\n",
    "    print('End date: {}'.format(end_date))\n",
    "\n",
    "if fileType == 'sp3':\n",
    "    sp3files = [file for file in files if file.endswith('.sp3')]\n",
    "    grace1Name = [file for file in sp3files if 'L64' in file]\n",
    "    grace2Name = [file for file in sp3files if 'L65' in file]\n",
    "    grace1 = sp3.Product.from_file(os.path.join(os.getcwd(), 'RawData', RawDataFolder, grace1Name[0]))\n",
    "    grace2 = sp3.Product.from_file(os.path.join(os.getcwd(), 'RawData', RawDataFolder, grace2Name[0]))\n",
    "\n",
    "    # get the start and date\n",
    "    start_date = min(grace1.satellites[0].records[0].time, grace2.satellites[0].records[0].time) - timedelta(days=2)\n",
    "    end_date = max(grace1.satellites[0].records[-1].time, grace2.satellites[0].records[-1].time) + timedelta(days=2)\n",
    "\n",
    "    print('Start date: {}'.format(start_date))\n",
    "    print('End date: {}'.format(end_date))"
   ]
  },
  {
   "cell_type": "code",
   "execution_count": 43,
   "metadata": {},
   "outputs": [
    {
     "data": {
      "text/plain": [
       "'>2023-09-22 09:59:42&<2023-09-27 00:00:12'"
      ]
     },
     "execution_count": 43,
     "metadata": {},
     "output_type": "execute_result"
    }
   ],
   "source": [
    "start_date.strftime('%Y-%m-%d %H:%M:%S')\n",
    "epoch=f\">{start_date.strftime('%Y-%m-%d %H:%M:%S')}&<{end_date.strftime('%Y-%m-%d %H:%M:%S')}\"\n",
    "epoch"
   ]
  },
  {
   "cell_type": "code",
   "execution_count": 53,
   "metadata": {},
   "outputs": [
    {
     "ename": "ReadTimeout",
     "evalue": "The read operation timed out",
     "output_type": "error",
     "traceback": [
      "\u001b[1;31m---------------------------------------------------------------------------\u001b[0m",
      "\u001b[1;31mtimeout\u001b[0m                                   Traceback (most recent call last)",
      "File \u001b[1;32mc:\\Users\\IT\\anaconda3\\envs\\fspsim\\lib\\site-packages\\httpcore\\_exceptions.py:10\u001b[0m, in \u001b[0;36mmap_exceptions\u001b[1;34m(map)\u001b[0m\n\u001b[0;32m      9\u001b[0m \u001b[39mtry\u001b[39;00m:\n\u001b[1;32m---> 10\u001b[0m     \u001b[39myield\u001b[39;00m\n\u001b[0;32m     11\u001b[0m \u001b[39mexcept\u001b[39;00m \u001b[39mException\u001b[39;00m \u001b[39mas\u001b[39;00m exc:  \u001b[39m# noqa: PIE786\u001b[39;00m\n",
      "File \u001b[1;32mc:\\Users\\IT\\anaconda3\\envs\\fspsim\\lib\\site-packages\\httpcore\\_backends\\sync.py:126\u001b[0m, in \u001b[0;36mSyncStream.read\u001b[1;34m(self, max_bytes, timeout)\u001b[0m\n\u001b[0;32m    125\u001b[0m \u001b[39mself\u001b[39m\u001b[39m.\u001b[39m_sock\u001b[39m.\u001b[39msettimeout(timeout)\n\u001b[1;32m--> 126\u001b[0m \u001b[39mreturn\u001b[39;00m \u001b[39mself\u001b[39;49m\u001b[39m.\u001b[39;49m_sock\u001b[39m.\u001b[39;49mrecv(max_bytes)\n",
      "File \u001b[1;32mc:\\Users\\IT\\anaconda3\\envs\\fspsim\\lib\\ssl.py:1260\u001b[0m, in \u001b[0;36mSSLSocket.recv\u001b[1;34m(self, buflen, flags)\u001b[0m\n\u001b[0;32m   1257\u001b[0m         \u001b[39mraise\u001b[39;00m \u001b[39mValueError\u001b[39;00m(\n\u001b[0;32m   1258\u001b[0m             \u001b[39m\"\u001b[39m\u001b[39mnon-zero flags not allowed in calls to recv() on \u001b[39m\u001b[39m%s\u001b[39;00m\u001b[39m\"\u001b[39m \u001b[39m%\u001b[39m\n\u001b[0;32m   1259\u001b[0m             \u001b[39mself\u001b[39m\u001b[39m.\u001b[39m\u001b[39m__class__\u001b[39m)\n\u001b[1;32m-> 1260\u001b[0m     \u001b[39mreturn\u001b[39;00m \u001b[39mself\u001b[39;49m\u001b[39m.\u001b[39;49mread(buflen)\n\u001b[0;32m   1261\u001b[0m \u001b[39melse\u001b[39;00m:\n",
      "File \u001b[1;32mc:\\Users\\IT\\anaconda3\\envs\\fspsim\\lib\\ssl.py:1135\u001b[0m, in \u001b[0;36mSSLSocket.read\u001b[1;34m(self, len, buffer)\u001b[0m\n\u001b[0;32m   1134\u001b[0m     \u001b[39melse\u001b[39;00m:\n\u001b[1;32m-> 1135\u001b[0m         \u001b[39mreturn\u001b[39;00m \u001b[39mself\u001b[39;49m\u001b[39m.\u001b[39;49m_sslobj\u001b[39m.\u001b[39;49mread(\u001b[39mlen\u001b[39;49m)\n\u001b[0;32m   1136\u001b[0m \u001b[39mexcept\u001b[39;00m SSLError \u001b[39mas\u001b[39;00m x:\n",
      "\u001b[1;31mtimeout\u001b[0m: The read operation timed out",
      "\nThe above exception was the direct cause of the following exception:\n",
      "\u001b[1;31mReadTimeout\u001b[0m                               Traceback (most recent call last)",
      "File \u001b[1;32mc:\\Users\\IT\\anaconda3\\envs\\fspsim\\lib\\site-packages\\httpx\\_transports\\default.py:66\u001b[0m, in \u001b[0;36mmap_httpcore_exceptions\u001b[1;34m()\u001b[0m\n\u001b[0;32m     65\u001b[0m \u001b[39mtry\u001b[39;00m:\n\u001b[1;32m---> 66\u001b[0m     \u001b[39myield\u001b[39;00m\n\u001b[0;32m     67\u001b[0m \u001b[39mexcept\u001b[39;00m \u001b[39mException\u001b[39;00m \u001b[39mas\u001b[39;00m exc:\n",
      "File \u001b[1;32mc:\\Users\\IT\\anaconda3\\envs\\fspsim\\lib\\site-packages\\httpx\\_transports\\default.py:110\u001b[0m, in \u001b[0;36mResponseStream.__iter__\u001b[1;34m(self)\u001b[0m\n\u001b[0;32m    109\u001b[0m \u001b[39mwith\u001b[39;00m map_httpcore_exceptions():\n\u001b[1;32m--> 110\u001b[0m     \u001b[39mfor\u001b[39;00m part \u001b[39min\u001b[39;00m \u001b[39mself\u001b[39m\u001b[39m.\u001b[39m_httpcore_stream:\n\u001b[0;32m    111\u001b[0m         \u001b[39myield\u001b[39;00m part\n",
      "File \u001b[1;32mc:\\Users\\IT\\anaconda3\\envs\\fspsim\\lib\\site-packages\\httpcore\\_sync\\connection_pool.py:361\u001b[0m, in \u001b[0;36mConnectionPoolByteStream.__iter__\u001b[1;34m(self)\u001b[0m\n\u001b[0;32m    360\u001b[0m \u001b[39mdef\u001b[39;00m \u001b[39m__iter__\u001b[39m(\u001b[39mself\u001b[39m) \u001b[39m-\u001b[39m\u001b[39m>\u001b[39m Iterator[\u001b[39mbytes\u001b[39m]:\n\u001b[1;32m--> 361\u001b[0m     \u001b[39mfor\u001b[39;00m part \u001b[39min\u001b[39;00m \u001b[39mself\u001b[39m\u001b[39m.\u001b[39m_stream:\n\u001b[0;32m    362\u001b[0m         \u001b[39myield\u001b[39;00m part\n",
      "File \u001b[1;32mc:\\Users\\IT\\anaconda3\\envs\\fspsim\\lib\\site-packages\\httpcore\\_sync\\http11.py:337\u001b[0m, in \u001b[0;36mHTTP11ConnectionByteStream.__iter__\u001b[1;34m(self)\u001b[0m\n\u001b[0;32m    336\u001b[0m     \u001b[39mself\u001b[39m\u001b[39m.\u001b[39mclose()\n\u001b[1;32m--> 337\u001b[0m \u001b[39mraise\u001b[39;00m exc\n",
      "File \u001b[1;32mc:\\Users\\IT\\anaconda3\\envs\\fspsim\\lib\\site-packages\\httpcore\\_sync\\http11.py:329\u001b[0m, in \u001b[0;36mHTTP11ConnectionByteStream.__iter__\u001b[1;34m(self)\u001b[0m\n\u001b[0;32m    328\u001b[0m \u001b[39mwith\u001b[39;00m Trace(\u001b[39m\"\u001b[39m\u001b[39mreceive_response_body\u001b[39m\u001b[39m\"\u001b[39m, logger, \u001b[39mself\u001b[39m\u001b[39m.\u001b[39m_request, kwargs):\n\u001b[1;32m--> 329\u001b[0m     \u001b[39mfor\u001b[39;00m chunk \u001b[39min\u001b[39;00m \u001b[39mself\u001b[39m\u001b[39m.\u001b[39m_connection\u001b[39m.\u001b[39m_receive_response_body(\u001b[39m*\u001b[39m\u001b[39m*\u001b[39mkwargs):\n\u001b[0;32m    330\u001b[0m         \u001b[39myield\u001b[39;00m chunk\n",
      "File \u001b[1;32mc:\\Users\\IT\\anaconda3\\envs\\fspsim\\lib\\site-packages\\httpcore\\_sync\\http11.py:198\u001b[0m, in \u001b[0;36mHTTP11Connection._receive_response_body\u001b[1;34m(self, request)\u001b[0m\n\u001b[0;32m    197\u001b[0m \u001b[39mwhile\u001b[39;00m \u001b[39mTrue\u001b[39;00m:\n\u001b[1;32m--> 198\u001b[0m     event \u001b[39m=\u001b[39m \u001b[39mself\u001b[39;49m\u001b[39m.\u001b[39;49m_receive_event(timeout\u001b[39m=\u001b[39;49mtimeout)\n\u001b[0;32m    199\u001b[0m     \u001b[39mif\u001b[39;00m \u001b[39misinstance\u001b[39m(event, h11\u001b[39m.\u001b[39mData):\n",
      "File \u001b[1;32mc:\\Users\\IT\\anaconda3\\envs\\fspsim\\lib\\site-packages\\httpcore\\_sync\\http11.py:212\u001b[0m, in \u001b[0;36mHTTP11Connection._receive_event\u001b[1;34m(self, timeout)\u001b[0m\n\u001b[0;32m    211\u001b[0m \u001b[39mif\u001b[39;00m event \u001b[39mis\u001b[39;00m h11\u001b[39m.\u001b[39mNEED_DATA:\n\u001b[1;32m--> 212\u001b[0m     data \u001b[39m=\u001b[39m \u001b[39mself\u001b[39;49m\u001b[39m.\u001b[39;49m_network_stream\u001b[39m.\u001b[39;49mread(\n\u001b[0;32m    213\u001b[0m         \u001b[39mself\u001b[39;49m\u001b[39m.\u001b[39;49mREAD_NUM_BYTES, timeout\u001b[39m=\u001b[39;49mtimeout\n\u001b[0;32m    214\u001b[0m     )\n\u001b[0;32m    216\u001b[0m     \u001b[39m# If we feed this case through h11 we'll raise an exception like:\u001b[39;00m\n\u001b[0;32m    217\u001b[0m     \u001b[39m#\u001b[39;00m\n\u001b[0;32m    218\u001b[0m     \u001b[39m#     httpcore.RemoteProtocolError: can't handle event type\u001b[39;00m\n\u001b[1;32m   (...)\u001b[0m\n\u001b[0;32m    222\u001b[0m     \u001b[39m# perspective. Instead we handle this case distinctly and treat\u001b[39;00m\n\u001b[0;32m    223\u001b[0m     \u001b[39m# it as a ConnectError.\u001b[39;00m\n",
      "File \u001b[1;32mc:\\Users\\IT\\anaconda3\\envs\\fspsim\\lib\\site-packages\\httpcore\\_backends\\sync.py:126\u001b[0m, in \u001b[0;36mSyncStream.read\u001b[1;34m(self, max_bytes, timeout)\u001b[0m\n\u001b[0;32m    125\u001b[0m \u001b[39mself\u001b[39m\u001b[39m.\u001b[39m_sock\u001b[39m.\u001b[39msettimeout(timeout)\n\u001b[1;32m--> 126\u001b[0m \u001b[39mreturn\u001b[39;00m \u001b[39mself\u001b[39m\u001b[39m.\u001b[39m_sock\u001b[39m.\u001b[39mrecv(max_bytes)\n",
      "File \u001b[1;32mc:\\Users\\IT\\anaconda3\\envs\\fspsim\\lib\\contextlib.py:137\u001b[0m, in \u001b[0;36m_GeneratorContextManager.__exit__\u001b[1;34m(self, typ, value, traceback)\u001b[0m\n\u001b[0;32m    136\u001b[0m \u001b[39mtry\u001b[39;00m:\n\u001b[1;32m--> 137\u001b[0m     \u001b[39mself\u001b[39;49m\u001b[39m.\u001b[39;49mgen\u001b[39m.\u001b[39;49mthrow(typ, value, traceback)\n\u001b[0;32m    138\u001b[0m \u001b[39mexcept\u001b[39;00m \u001b[39mStopIteration\u001b[39;00m \u001b[39mas\u001b[39;00m exc:\n\u001b[0;32m    139\u001b[0m     \u001b[39m# Suppress StopIteration *unless* it's the same exception that\u001b[39;00m\n\u001b[0;32m    140\u001b[0m     \u001b[39m# was passed to throw().  This prevents a StopIteration\u001b[39;00m\n\u001b[0;32m    141\u001b[0m     \u001b[39m# raised inside the \"with\" statement from being suppressed.\u001b[39;00m\n",
      "File \u001b[1;32mc:\\Users\\IT\\anaconda3\\envs\\fspsim\\lib\\site-packages\\httpcore\\_exceptions.py:14\u001b[0m, in \u001b[0;36mmap_exceptions\u001b[1;34m(map)\u001b[0m\n\u001b[0;32m     13\u001b[0m     \u001b[39mif\u001b[39;00m \u001b[39misinstance\u001b[39m(exc, from_exc):\n\u001b[1;32m---> 14\u001b[0m         \u001b[39mraise\u001b[39;00m to_exc(exc) \u001b[39mfrom\u001b[39;00m \u001b[39mexc\u001b[39;00m\n\u001b[0;32m     15\u001b[0m \u001b[39mraise\u001b[39;00m\n",
      "\u001b[1;31mReadTimeout\u001b[0m: The read operation timed out",
      "\nThe above exception was the direct cause of the following exception:\n",
      "\u001b[1;31mReadTimeout\u001b[0m                               Traceback (most recent call last)",
      "\u001b[1;32mc:\\Users\\IT\\Documents\\UCL\\CatAnalysis\\SetUp.ipynb Cell 5\u001b[0m line \u001b[0;36m2\n\u001b[0;32m      <a href='vscode-notebook-cell:/c%3A/Users/IT/Documents/UCL/CatAnalysis/SetUp.ipynb#W5sZmlsZQ%3D%3D?line=0'>1</a>\u001b[0m \u001b[39m# need to update the date to take out the time to be dynamic\u001b[39;00m\n\u001b[1;32m----> <a href='vscode-notebook-cell:/c%3A/Users/IT/Documents/UCL/CatAnalysis/SetUp.ipynb#W5sZmlsZQ%3D%3D?line=1'>2</a>\u001b[0m grace1_tle \u001b[39m=\u001b[39m st\u001b[39m.\u001b[39;49mtle(norad_cat_id\u001b[39m=\u001b[39;49m\u001b[39m43476\u001b[39;49m, epoch\u001b[39m=\u001b[39;49m\u001b[39mf\u001b[39;49m\u001b[39m\"\u001b[39;49m\u001b[39m>\u001b[39;49m\u001b[39m{\u001b[39;49;00mstart_date\u001b[39m.\u001b[39;49mstrftime(\u001b[39m'\u001b[39;49m\u001b[39m%\u001b[39;49m\u001b[39mY-\u001b[39;49m\u001b[39m%\u001b[39;49m\u001b[39mm-\u001b[39;49m\u001b[39m%d\u001b[39;49;00m\u001b[39m \u001b[39;49m\u001b[39m%\u001b[39;49m\u001b[39mH:\u001b[39;49m\u001b[39m%\u001b[39;49m\u001b[39mM:\u001b[39;49m\u001b[39m%\u001b[39;49m\u001b[39mS\u001b[39;49m\u001b[39m'\u001b[39;49m)\u001b[39m}\u001b[39;49;00m\u001b[39m&<\u001b[39;49m\u001b[39m{\u001b[39;49;00mend_date\u001b[39m.\u001b[39;49mstrftime(\u001b[39m'\u001b[39;49m\u001b[39m%\u001b[39;49m\u001b[39mY-\u001b[39;49m\u001b[39m%\u001b[39;49m\u001b[39mm-\u001b[39;49m\u001b[39m%d\u001b[39;49;00m\u001b[39m \u001b[39;49m\u001b[39m%\u001b[39;49m\u001b[39mH:\u001b[39;49m\u001b[39m%\u001b[39;49m\u001b[39mM:\u001b[39;49m\u001b[39m%\u001b[39;49m\u001b[39mS\u001b[39;49m\u001b[39m'\u001b[39;49m)\u001b[39m}\u001b[39;49;00m\u001b[39m\"\u001b[39;49m,orderby\u001b[39m=\u001b[39;49m\u001b[39m'\u001b[39;49m\u001b[39mepoch asc\u001b[39;49m\u001b[39m'\u001b[39;49m, \u001b[39mformat\u001b[39;49m\u001b[39m=\u001b[39;49m\u001b[39m'\u001b[39;49m\u001b[39mjson\u001b[39;49m\u001b[39m'\u001b[39;49m)\n\u001b[0;32m      <a href='vscode-notebook-cell:/c%3A/Users/IT/Documents/UCL/CatAnalysis/SetUp.ipynb#W5sZmlsZQ%3D%3D?line=2'>3</a>\u001b[0m grace2_tle \u001b[39m=\u001b[39m st\u001b[39m.\u001b[39mtle(norad_cat_id\u001b[39m=\u001b[39m\u001b[39m43477\u001b[39m, epoch\u001b[39m=\u001b[39m\u001b[39mf\u001b[39m\u001b[39m\"\u001b[39m\u001b[39m>\u001b[39m\u001b[39m{\u001b[39;00mstart_date\u001b[39m.\u001b[39mstrftime(\u001b[39m'\u001b[39m\u001b[39m%\u001b[39m\u001b[39mY-\u001b[39m\u001b[39m%\u001b[39m\u001b[39mm-\u001b[39m\u001b[39m%d\u001b[39;00m\u001b[39m \u001b[39m\u001b[39m%\u001b[39m\u001b[39mH:\u001b[39m\u001b[39m%\u001b[39m\u001b[39mM:\u001b[39m\u001b[39m%\u001b[39m\u001b[39mS\u001b[39m\u001b[39m'\u001b[39m)\u001b[39m}\u001b[39;00m\u001b[39m&<\u001b[39m\u001b[39m{\u001b[39;00mend_date\u001b[39m.\u001b[39mstrftime(\u001b[39m'\u001b[39m\u001b[39m%\u001b[39m\u001b[39mY-\u001b[39m\u001b[39m%\u001b[39m\u001b[39mm-\u001b[39m\u001b[39m%d\u001b[39;00m\u001b[39m \u001b[39m\u001b[39m%\u001b[39m\u001b[39mH:\u001b[39m\u001b[39m%\u001b[39m\u001b[39mM:\u001b[39m\u001b[39m%\u001b[39m\u001b[39mS\u001b[39m\u001b[39m'\u001b[39m)\u001b[39m}\u001b[39;00m\u001b[39m\"\u001b[39m,orderby\u001b[39m=\u001b[39m\u001b[39m'\u001b[39m\u001b[39mepoch asc\u001b[39m\u001b[39m'\u001b[39m, \u001b[39mformat\u001b[39m\u001b[39m=\u001b[39m\u001b[39m'\u001b[39m\u001b[39mjson\u001b[39m\u001b[39m'\u001b[39m)\n\u001b[0;32m      <a href='vscode-notebook-cell:/c%3A/Users/IT/Documents/UCL/CatAnalysis/SetUp.ipynb#W5sZmlsZQ%3D%3D?line=4'>5</a>\u001b[0m \u001b[39m# save in the RawData folder with a name of grace-fo-1-tle-43476.json\u001b[39;00m\n",
      "File \u001b[1;32mc:\\Users\\IT\\anaconda3\\envs\\fspsim\\lib\\site-packages\\spacetrack\\base.py:580\u001b[0m, in \u001b[0;36mSpaceTrackClient.generic_request\u001b[1;34m(self, class_, iter_lines, iter_content, controller, parse_types, **kwargs)\u001b[0m\n\u001b[0;32m    512\u001b[0m \u001b[39mdef\u001b[39;00m \u001b[39mgeneric_request\u001b[39m(\n\u001b[0;32m    513\u001b[0m     \u001b[39mself\u001b[39m,\n\u001b[0;32m    514\u001b[0m     class_,\n\u001b[1;32m   (...)\u001b[0m\n\u001b[0;32m    519\u001b[0m     \u001b[39m*\u001b[39m\u001b[39m*\u001b[39mkwargs,\n\u001b[0;32m    520\u001b[0m ):\n\u001b[0;32m    521\u001b[0m \u001b[39m    \u001b[39m\u001b[39mr\u001b[39m\u001b[39m\"\"\"Generic Space-Track query.\u001b[39;00m\n\u001b[0;32m    522\u001b[0m \n\u001b[0;32m    523\u001b[0m \u001b[39m    The request class methods use this method internally; the public\u001b[39;00m\n\u001b[1;32m   (...)\u001b[0m\n\u001b[0;32m    578\u001b[0m \u001b[39m            not set ``format`` if you want the parsed JSON object returned!\u001b[39;00m\n\u001b[0;32m    579\u001b[0m \u001b[39m    \"\"\"\u001b[39;00m\n\u001b[1;32m--> 580\u001b[0m     \u001b[39mreturn\u001b[39;00m \u001b[39mself\u001b[39;49m\u001b[39m.\u001b[39;49m_run_event_generator(\n\u001b[0;32m    581\u001b[0m         \u001b[39mself\u001b[39;49m\u001b[39m.\u001b[39;49m_generic_request_generator(\n\u001b[0;32m    582\u001b[0m             class_\u001b[39m=\u001b[39;49mclass_,\n\u001b[0;32m    583\u001b[0m             iter_lines\u001b[39m=\u001b[39;49miter_lines,\n\u001b[0;32m    584\u001b[0m             iter_content\u001b[39m=\u001b[39;49miter_content,\n\u001b[0;32m    585\u001b[0m             controller\u001b[39m=\u001b[39;49mcontroller,\n\u001b[0;32m    586\u001b[0m             parse_types\u001b[39m=\u001b[39;49mparse_types,\n\u001b[0;32m    587\u001b[0m             \u001b[39m*\u001b[39;49m\u001b[39m*\u001b[39;49mkwargs,\n\u001b[0;32m    588\u001b[0m         )\n\u001b[0;32m    589\u001b[0m     )\n",
      "File \u001b[1;32mc:\\Users\\IT\\anaconda3\\envs\\fspsim\\lib\\site-packages\\spacetrack\\base.py:358\u001b[0m, in \u001b[0;36mSpaceTrackClient._run_event_generator\u001b[1;34m(self, g)\u001b[0m\n\u001b[0;32m    354\u001b[0m         \u001b[39mreturn\u001b[39;00m \u001b[39mself\u001b[39m\u001b[39m.\u001b[39m_handle_event(exc\u001b[39m.\u001b[39mvalue)\n\u001b[0;32m    356\u001b[0m     \u001b[39mreturn\u001b[39;00m exc\u001b[39m.\u001b[39mvalue\n\u001b[1;32m--> 358\u001b[0m ret \u001b[39m=\u001b[39m \u001b[39mself\u001b[39;49m\u001b[39m.\u001b[39;49m_handle_event(event)\n",
      "File \u001b[1;32mc:\\Users\\IT\\anaconda3\\envs\\fspsim\\lib\\site-packages\\spacetrack\\base.py:329\u001b[0m, in \u001b[0;36mSpaceTrackClient._handle_event\u001b[1;34m(self, event)\u001b[0m\n\u001b[0;32m    327\u001b[0m \u001b[39mdef\u001b[39;00m \u001b[39m_handle_event\u001b[39m(\u001b[39mself\u001b[39m, event):\n\u001b[0;32m    328\u001b[0m     \u001b[39mif\u001b[39;00m \u001b[39misinstance\u001b[39m(event, NormalRequest):\n\u001b[1;32m--> 329\u001b[0m         \u001b[39mreturn\u001b[39;00m \u001b[39mself\u001b[39;49m\u001b[39m.\u001b[39;49mclient\u001b[39m.\u001b[39;49msend(\n\u001b[0;32m    330\u001b[0m             event\u001b[39m.\u001b[39;49mrequest,\n\u001b[0;32m    331\u001b[0m             follow_redirects\u001b[39m=\u001b[39;49mevent\u001b[39m.\u001b[39;49mfollow_redirects,\n\u001b[0;32m    332\u001b[0m             stream\u001b[39m=\u001b[39;49mevent\u001b[39m.\u001b[39;49mstream,\n\u001b[0;32m    333\u001b[0m         )\n\u001b[0;32m    334\u001b[0m     \u001b[39melif\u001b[39;00m \u001b[39misinstance\u001b[39m(event, ReadResponse):\n\u001b[0;32m    335\u001b[0m         \u001b[39mreturn\u001b[39;00m event\u001b[39m.\u001b[39mresponse\u001b[39m.\u001b[39mread()\n",
      "File \u001b[1;32mc:\\Users\\IT\\anaconda3\\envs\\fspsim\\lib\\site-packages\\httpx\\_client.py:915\u001b[0m, in \u001b[0;36mClient.send\u001b[1;34m(self, request, stream, auth, follow_redirects)\u001b[0m\n\u001b[0;32m    913\u001b[0m \u001b[39mexcept\u001b[39;00m \u001b[39mBaseException\u001b[39;00m \u001b[39mas\u001b[39;00m exc:\n\u001b[0;32m    914\u001b[0m     response\u001b[39m.\u001b[39mclose()\n\u001b[1;32m--> 915\u001b[0m     \u001b[39mraise\u001b[39;00m exc\n",
      "File \u001b[1;32mc:\\Users\\IT\\anaconda3\\envs\\fspsim\\lib\\site-packages\\httpx\\_client.py:909\u001b[0m, in \u001b[0;36mClient.send\u001b[1;34m(self, request, stream, auth, follow_redirects)\u001b[0m\n\u001b[0;32m    907\u001b[0m \u001b[39mtry\u001b[39;00m:\n\u001b[0;32m    908\u001b[0m     \u001b[39mif\u001b[39;00m \u001b[39mnot\u001b[39;00m stream:\n\u001b[1;32m--> 909\u001b[0m         response\u001b[39m.\u001b[39;49mread()\n\u001b[0;32m    911\u001b[0m     \u001b[39mreturn\u001b[39;00m response\n\u001b[0;32m    913\u001b[0m \u001b[39mexcept\u001b[39;00m \u001b[39mBaseException\u001b[39;00m \u001b[39mas\u001b[39;00m exc:\n",
      "File \u001b[1;32mc:\\Users\\IT\\anaconda3\\envs\\fspsim\\lib\\site-packages\\httpx\\_models.py:810\u001b[0m, in \u001b[0;36mResponse.read\u001b[1;34m(self)\u001b[0m\n\u001b[0;32m    806\u001b[0m \u001b[39m\u001b[39m\u001b[39m\"\"\"\u001b[39;00m\n\u001b[0;32m    807\u001b[0m \u001b[39mRead and return the response content.\u001b[39;00m\n\u001b[0;32m    808\u001b[0m \u001b[39m\"\"\"\u001b[39;00m\n\u001b[0;32m    809\u001b[0m \u001b[39mif\u001b[39;00m \u001b[39mnot\u001b[39;00m \u001b[39mhasattr\u001b[39m(\u001b[39mself\u001b[39m, \u001b[39m\"\u001b[39m\u001b[39m_content\u001b[39m\u001b[39m\"\u001b[39m):\n\u001b[1;32m--> 810\u001b[0m     \u001b[39mself\u001b[39m\u001b[39m.\u001b[39m_content \u001b[39m=\u001b[39m \u001b[39mb\u001b[39;49m\u001b[39m\"\u001b[39;49m\u001b[39m\"\u001b[39;49m\u001b[39m.\u001b[39;49mjoin(\u001b[39mself\u001b[39;49m\u001b[39m.\u001b[39;49miter_bytes())\n\u001b[0;32m    811\u001b[0m \u001b[39mreturn\u001b[39;00m \u001b[39mself\u001b[39m\u001b[39m.\u001b[39m_content\n",
      "File \u001b[1;32mc:\\Users\\IT\\anaconda3\\envs\\fspsim\\lib\\site-packages\\httpx\\_models.py:828\u001b[0m, in \u001b[0;36mResponse.iter_bytes\u001b[1;34m(self, chunk_size)\u001b[0m\n\u001b[0;32m    826\u001b[0m chunker \u001b[39m=\u001b[39m ByteChunker(chunk_size\u001b[39m=\u001b[39mchunk_size)\n\u001b[0;32m    827\u001b[0m \u001b[39mwith\u001b[39;00m request_context(request\u001b[39m=\u001b[39m\u001b[39mself\u001b[39m\u001b[39m.\u001b[39m_request):\n\u001b[1;32m--> 828\u001b[0m     \u001b[39mfor\u001b[39;00m raw_bytes \u001b[39min\u001b[39;00m \u001b[39mself\u001b[39m\u001b[39m.\u001b[39miter_raw():\n\u001b[0;32m    829\u001b[0m         decoded \u001b[39m=\u001b[39m decoder\u001b[39m.\u001b[39mdecode(raw_bytes)\n\u001b[0;32m    830\u001b[0m         \u001b[39mfor\u001b[39;00m chunk \u001b[39min\u001b[39;00m chunker\u001b[39m.\u001b[39mdecode(decoded):\n",
      "File \u001b[1;32mc:\\Users\\IT\\anaconda3\\envs\\fspsim\\lib\\site-packages\\httpx\\_models.py:886\u001b[0m, in \u001b[0;36mResponse.iter_raw\u001b[1;34m(self, chunk_size)\u001b[0m\n\u001b[0;32m    883\u001b[0m chunker \u001b[39m=\u001b[39m ByteChunker(chunk_size\u001b[39m=\u001b[39mchunk_size)\n\u001b[0;32m    885\u001b[0m \u001b[39mwith\u001b[39;00m request_context(request\u001b[39m=\u001b[39m\u001b[39mself\u001b[39m\u001b[39m.\u001b[39m_request):\n\u001b[1;32m--> 886\u001b[0m     \u001b[39mfor\u001b[39;00m raw_stream_bytes \u001b[39min\u001b[39;00m \u001b[39mself\u001b[39m\u001b[39m.\u001b[39mstream:\n\u001b[0;32m    887\u001b[0m         \u001b[39mself\u001b[39m\u001b[39m.\u001b[39m_num_bytes_downloaded \u001b[39m+\u001b[39m\u001b[39m=\u001b[39m \u001b[39mlen\u001b[39m(raw_stream_bytes)\n\u001b[0;32m    888\u001b[0m         \u001b[39mfor\u001b[39;00m chunk \u001b[39min\u001b[39;00m chunker\u001b[39m.\u001b[39mdecode(raw_stream_bytes):\n",
      "File \u001b[1;32mc:\\Users\\IT\\anaconda3\\envs\\fspsim\\lib\\site-packages\\httpx\\_client.py:123\u001b[0m, in \u001b[0;36mBoundSyncStream.__iter__\u001b[1;34m(self)\u001b[0m\n\u001b[0;32m    122\u001b[0m \u001b[39mdef\u001b[39;00m \u001b[39m__iter__\u001b[39m(\u001b[39mself\u001b[39m) \u001b[39m-\u001b[39m\u001b[39m>\u001b[39m typing\u001b[39m.\u001b[39mIterator[\u001b[39mbytes\u001b[39m]:\n\u001b[1;32m--> 123\u001b[0m     \u001b[39mfor\u001b[39;00m chunk \u001b[39min\u001b[39;00m \u001b[39mself\u001b[39m\u001b[39m.\u001b[39m_stream:\n\u001b[0;32m    124\u001b[0m         \u001b[39myield\u001b[39;00m chunk\n",
      "File \u001b[1;32mc:\\Users\\IT\\anaconda3\\envs\\fspsim\\lib\\site-packages\\httpx\\_transports\\default.py:111\u001b[0m, in \u001b[0;36mResponseStream.__iter__\u001b[1;34m(self)\u001b[0m\n\u001b[0;32m    109\u001b[0m \u001b[39mwith\u001b[39;00m map_httpcore_exceptions():\n\u001b[0;32m    110\u001b[0m     \u001b[39mfor\u001b[39;00m part \u001b[39min\u001b[39;00m \u001b[39mself\u001b[39m\u001b[39m.\u001b[39m_httpcore_stream:\n\u001b[1;32m--> 111\u001b[0m         \u001b[39myield\u001b[39;00m part\n",
      "File \u001b[1;32mc:\\Users\\IT\\anaconda3\\envs\\fspsim\\lib\\contextlib.py:137\u001b[0m, in \u001b[0;36m_GeneratorContextManager.__exit__\u001b[1;34m(self, typ, value, traceback)\u001b[0m\n\u001b[0;32m    135\u001b[0m     value \u001b[39m=\u001b[39m typ()\n\u001b[0;32m    136\u001b[0m \u001b[39mtry\u001b[39;00m:\n\u001b[1;32m--> 137\u001b[0m     \u001b[39mself\u001b[39;49m\u001b[39m.\u001b[39;49mgen\u001b[39m.\u001b[39;49mthrow(typ, value, traceback)\n\u001b[0;32m    138\u001b[0m \u001b[39mexcept\u001b[39;00m \u001b[39mStopIteration\u001b[39;00m \u001b[39mas\u001b[39;00m exc:\n\u001b[0;32m    139\u001b[0m     \u001b[39m# Suppress StopIteration *unless* it's the same exception that\u001b[39;00m\n\u001b[0;32m    140\u001b[0m     \u001b[39m# was passed to throw().  This prevents a StopIteration\u001b[39;00m\n\u001b[0;32m    141\u001b[0m     \u001b[39m# raised inside the \"with\" statement from being suppressed.\u001b[39;00m\n\u001b[0;32m    142\u001b[0m     \u001b[39mreturn\u001b[39;00m exc \u001b[39mis\u001b[39;00m \u001b[39mnot\u001b[39;00m value\n",
      "File \u001b[1;32mc:\\Users\\IT\\anaconda3\\envs\\fspsim\\lib\\site-packages\\httpx\\_transports\\default.py:83\u001b[0m, in \u001b[0;36mmap_httpcore_exceptions\u001b[1;34m()\u001b[0m\n\u001b[0;32m     80\u001b[0m     \u001b[39mraise\u001b[39;00m\n\u001b[0;32m     82\u001b[0m message \u001b[39m=\u001b[39m \u001b[39mstr\u001b[39m(exc)\n\u001b[1;32m---> 83\u001b[0m \u001b[39mraise\u001b[39;00m mapped_exc(message) \u001b[39mfrom\u001b[39;00m \u001b[39mexc\u001b[39;00m\n",
      "\u001b[1;31mReadTimeout\u001b[0m: The read operation timed out"
     ]
    }
   ],
   "source": [
    "# need to update the date to take out the time to be dynamic\n",
    "grace1_tle = st.tle(norad_cat_id=43476, epoch=f\">{start_date.strftime('%Y-%m-%d %H:%M:%S')}&<{end_date.strftime('%Y-%m-%d %H:%M:%S')}\",orderby='epoch asc', format='json')\n",
    "grace2_tle = st.tle(norad_cat_id=43477, epoch=f\">{start_date.strftime('%Y-%m-%d %H:%M:%S')}&<{end_date.strftime('%Y-%m-%d %H:%M:%S')}\",orderby='epoch asc', format='json')\n",
    "\n",
    "# save in the RawData folder with a name of grace-fo-1-tle-43476.json\n",
    "with open(os.path.join(RawDataFolder, 'grace-fo-1-tle-43476.json'), 'w') as f:\n",
    "    f.write(grace1_tle)\n",
    "\n",
    "with open(os.path.join(RawDataFolder, 'grace-fo-2-tle-43477.json'), 'w') as f:\n",
    "    f.write(grace2_tle)"
   ]
  }
 ],
 "metadata": {
  "kernelspec": {
   "display_name": "fspsim",
   "language": "python",
   "name": "python3"
  },
  "language_info": {
   "codemirror_mode": {
    "name": "ipython",
    "version": 3
   },
   "file_extension": ".py",
   "mimetype": "text/x-python",
   "name": "python",
   "nbconvert_exporter": "python",
   "pygments_lexer": "ipython3",
   "version": "3.9.18"
  }
 },
 "nbformat": 4,
 "nbformat_minor": 2
}
