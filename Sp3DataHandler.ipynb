{
 "cells": [
  {
   "cell_type": "markdown",
   "metadata": {},
   "source": [
    "# SP3 Data Wrangler\n",
    "\n",
    "This code will take the data that is within the sp3 folder in the RawData folder, process it and convert it into an output folder for anlaysis "
   ]
  },
  {
   "cell_type": "code",
   "execution_count": 2,
   "metadata": {},
   "outputs": [],
   "source": [
    "import os\n",
    "import sp3\n",
    "import shutil\n",
    "import gzip\n",
    "import pickle"
   ]
  },
  {
   "cell_type": "code",
   "execution_count": 3,
   "metadata": {},
   "outputs": [
    {
     "name": "stdout",
     "output_type": "stream",
     "text": [
      "There are 50 folders\n",
      "Extracting SP3 data from all folders...\n"
     ]
    }
   ],
   "source": [
    "output_folder = 'sp3_test' \n",
    "grace_satellite = 'L64' # 'L65' or 'L64'\n",
    "sp3_raw_data_folder = os.path.join(os.getcwd(), 'RawData', 'sp3', f'{grace_satellite}')\n",
    "specific_folder_numbers = [-1] # include a specific range, or use -1 for all folders\n",
    "\n",
    "# first check that the folder exists\n",
    "if not os.path.isdir(sp3_raw_data_folder):\n",
    "    raise Exception(f'Folder not found: {sp3_raw_data_folder}')\n",
    "\n",
    "if specific_folder_numbers == [-1]:\n",
    "    # get all folders\n",
    "    folders = [f for f in os.listdir(sp3_raw_data_folder) if os.path.isdir(os.path.join(sp3_raw_data_folder, f))]\n",
    "    print('There are {} folders'.format(len(folders)))\n",
    "    print('Extracting SP3 data from all folders...')\n",
    "else: \n",
    "    # extract the specific folders from the range in specific_folder_numbers, i.e [001, 005] would take 001, 002, 003, 004, 005\n",
    "    # need to think of a better way of doing this\n",
    "    folders = [f for f in os.listdir(sp3_raw_data_folder) if os.path.isdir(os.path.join(sp3_raw_data_folder, f))]\n",
    "    folders = [f for f in folders if int(f) in specific_folder_numbers]\n",
    "    print('There are {} folders'.format(len(folders)))\n",
    "    print('Extracting SP3 data from folders {} to {}...'.format(specific_folder_numbers[0], specific_folder_numbers[-1]))"
   ]
  },
  {
   "cell_type": "code",
   "execution_count": 4,
   "metadata": {},
   "outputs": [
    {
     "name": "stdout",
     "output_type": "stream",
     "text": [
      "File already unzipped: GFZOP_RSO_L64_G_20221231_220000_20230101_120000_v02.sp3\n",
      "File already unzipped: GFZOP_RSO_L64_G_20230101_100000_20230102_000000_v02.sp3\n",
      "File already unzipped: GFZOP_RSO_L64_G_20230101_220000_20230102_120000_v02.sp3\n",
      "File already unzipped: GFZOP_RSO_L64_G_20230102_100000_20230103_000000_v02.sp3\n",
      "File already unzipped: GFZOP_RSO_L64_G_20230102_220000_20230103_120000_v02.sp3\n",
      "File already unzipped: GFZOP_RSO_L64_G_20230103_100000_20230104_000000_v02.sp3\n",
      "File already unzipped: GFZOP_RSO_L64_G_20230103_220000_20230104_120000_v02.sp3\n",
      "File already unzipped: GFZOP_RSO_L64_G_20230104_100000_20230105_000000_v02.sp3\n",
      "File already unzipped: GFZOP_RSO_L64_G_20230104_220000_20230105_120000_v02.sp3\n",
      "File already unzipped: GFZOP_RSO_L64_G_20230105_100000_20230106_000000_v02.sp3\n",
      "File already unzipped: GFZOP_RSO_L64_G_20230105_220000_20230106_120000_v02.sp3\n",
      "File already unzipped: GFZOP_RSO_L64_G_20230106_100000_20230107_000000_v02.sp3\n",
      "File already unzipped: GFZOP_RSO_L64_G_20230106_220000_20230107_120000_v02.sp3\n",
      "File already unzipped: GFZOP_RSO_L64_G_20230107_100000_20230108_000000_v02.sp3\n",
      "File already unzipped: GFZOP_RSO_L64_G_20230107_220000_20230108_120000_v02.sp3\n",
      "File already unzipped: GFZOP_RSO_L64_G_20230108_100000_20230109_000000_v02.sp3\n",
      "File already unzipped: GFZOP_RSO_L64_G_20230108_220000_20230109_120000_v02.sp3\n",
      "File already unzipped: GFZOP_RSO_L64_G_20230109_100000_20230110_000000_v02.sp3\n",
      "File already unzipped: GFZOP_RSO_L64_G_20230109_220000_20230110_120000_v02.sp3\n",
      "File already unzipped: GFZOP_RSO_L64_G_20230110_100000_20230111_000000_v02.sp3\n",
      "File already unzipped: GFZOP_RSO_L64_G_20230110_220000_20230111_120000_v02.sp3\n",
      "File already unzipped: GFZOP_RSO_L64_G_20230111_100000_20230112_000000_v02.sp3\n",
      "File already unzipped: GFZOP_RSO_L64_G_20230111_220000_20230112_120000_v02.sp3\n",
      "File already unzipped: GFZOP_RSO_L64_G_20230112_100000_20230113_000000_v02.sp3\n",
      "File already unzipped: GFZOP_RSO_L64_G_20230112_220000_20230113_120000_v02.sp3\n",
      "File already unzipped: GFZOP_RSO_L64_G_20230113_100000_20230114_000000_v02.sp3\n",
      "File already unzipped: GFZOP_RSO_L64_G_20230113_220000_20230114_120000_v02.sp3\n",
      "File already unzipped: GFZOP_RSO_L64_G_20230114_100000_20230115_000000_v02.sp3\n",
      "File already unzipped: GFZOP_RSO_L64_G_20230114_220000_20230115_120000_v02.sp3\n",
      "File already unzipped: GFZOP_RSO_L64_G_20230115_100000_20230116_000000_v02.sp3\n",
      "File already unzipped: GFZOP_RSO_L64_G_20230115_220000_20230116_120000_v02.sp3\n",
      "File already unzipped: GFZOP_RSO_L64_G_20230116_100000_20230117_000000_v02.sp3\n",
      "File already unzipped: GFZOP_RSO_L64_G_20230116_220000_20230117_120000_v02.sp3\n",
      "File already unzipped: GFZOP_RSO_L64_G_20230117_100000_20230118_000000_v02.sp3\n",
      "File already unzipped: GFZOP_RSO_L64_G_20230117_220000_20230118_120000_v02.sp3\n",
      "File already unzipped: GFZOP_RSO_L64_G_20230118_100000_20230119_000000_v02.sp3\n",
      "File already unzipped: GFZOP_RSO_L64_G_20230118_220000_20230119_120000_v02.sp3\n",
      "File already unzipped: GFZOP_RSO_L64_G_20230119_100000_20230120_000000_v02.sp3\n",
      "File already unzipped: GFZOP_RSO_L64_G_20230119_220000_20230120_120000_v02.sp3\n",
      "File already unzipped: GFZOP_RSO_L64_G_20230120_100000_20230121_000000_v02.sp3\n",
      "File already unzipped: GFZOP_RSO_L64_G_20230120_220000_20230121_120000_v02.sp3\n",
      "File already unzipped: GFZOP_RSO_L64_G_20230121_100000_20230122_000000_v02.sp3\n",
      "File already unzipped: GFZOP_RSO_L64_G_20230121_220000_20230122_120000_v02.sp3\n",
      "File already unzipped: GFZOP_RSO_L64_G_20230122_100000_20230123_000000_v02.sp3\n",
      "File already unzipped: GFZOP_RSO_L64_G_20230122_220000_20230123_120000_v02.sp3\n",
      "File already unzipped: GFZOP_RSO_L64_G_20230123_100000_20230124_000000_v02.sp3\n",
      "File already unzipped: GFZOP_RSO_L64_G_20230123_220000_20230124_120000_v02.sp3\n",
      "File already unzipped: GFZOP_RSO_L64_G_20230124_100000_20230125_000000_v02.sp3\n",
      "File already unzipped: GFZOP_RSO_L64_G_20230124_220000_20230125_120000_v02.sp3\n",
      "File already unzipped: GFZOP_RSO_L64_G_20230125_100000_20230126_000000_v02.sp3\n",
      "File already unzipped: GFZOP_RSO_L64_G_20230125_220000_20230126_120000_v02.sp3\n",
      "File already unzipped: GFZOP_RSO_L64_G_20230126_100000_20230127_000000_v02.sp3\n",
      "File already unzipped: GFZOP_RSO_L64_G_20230126_220000_20230127_120000_v02.sp3\n",
      "File already unzipped: GFZOP_RSO_L64_G_20230127_100000_20230128_000000_v02.sp3\n",
      "File already unzipped: GFZOP_RSO_L64_G_20230127_220000_20230128_120000_v02.sp3\n",
      "File already unzipped: GFZOP_RSO_L64_G_20230128_100000_20230129_000000_v02.sp3\n",
      "File already unzipped: GFZOP_RSO_L64_G_20230128_220000_20230129_120000_v02.sp3\n",
      "File already unzipped: GFZOP_RSO_L64_G_20230129_100000_20230130_000000_v02.sp3\n",
      "File already unzipped: GFZOP_RSO_L64_G_20230129_220000_20230130_120000_v02.sp3\n",
      "File already unzipped: GFZOP_RSO_L64_G_20230130_100000_20230131_000000_v02.sp3\n",
      "File already unzipped: GFZOP_RSO_L64_G_20230130_220000_20230131_120000_v02.sp3\n",
      "File already unzipped: GFZOP_RSO_L64_G_20230131_100000_20230201_000000_v02.sp3\n",
      "File already unzipped: GFZOP_RSO_L64_G_20230131_220000_20230201_120000_v02.sp3\n",
      "File already unzipped: GFZOP_RSO_L64_G_20230201_100000_20230202_000000_v02.sp3\n",
      "File already unzipped: GFZOP_RSO_L64_G_20230201_220000_20230202_120000_v02.sp3\n",
      "File already unzipped: GFZOP_RSO_L64_G_20230202_100000_20230203_000000_v02.sp3\n",
      "File already unzipped: GFZOP_RSO_L64_G_20230202_220000_20230203_120000_v02.sp3\n",
      "File already unzipped: GFZOP_RSO_L64_G_20230203_100000_20230204_000000_v02.sp3\n",
      "File already unzipped: GFZOP_RSO_L64_G_20230203_220000_20230204_120000_v02.sp3\n",
      "File already unzipped: GFZOP_RSO_L64_G_20230204_100000_20230205_000000_v02.sp3\n",
      "File already unzipped: GFZOP_RSO_L64_G_20230204_220000_20230205_120000_v02.sp3\n",
      "File already unzipped: GFZOP_RSO_L64_G_20230205_100000_20230206_000000_v02.sp3\n",
      "File already unzipped: GFZOP_RSO_L64_G_20230205_220000_20230206_120000_v02.sp3\n",
      "File already unzipped: GFZOP_RSO_L64_G_20230206_100000_20230207_000000_v02.sp3\n",
      "File already unzipped: GFZOP_RSO_L64_G_20230206_220000_20230207_120000_v02.sp3\n",
      "File already unzipped: GFZOP_RSO_L64_G_20230207_100000_20230208_000000_v02.sp3\n",
      "File already unzipped: GFZOP_RSO_L64_G_20230207_220000_20230208_120000_v02.sp3\n",
      "File already unzipped: GFZOP_RSO_L64_G_20230208_100000_20230209_000000_v02.sp3\n",
      "File already unzipped: GFZOP_RSO_L64_G_20230208_220000_20230209_120000_v02.sp3\n",
      "File already unzipped: GFZOP_RSO_L64_G_20230209_100000_20230210_000000_v02.sp3\n",
      "File already unzipped: GFZOP_RSO_L64_G_20230209_220000_20230210_120000_v02.sp3\n",
      "File already unzipped: GFZOP_RSO_L64_G_20230210_100000_20230211_000000_v02.sp3\n",
      "File already unzipped: GFZOP_RSO_L64_G_20230210_220000_20230211_120000_v02.sp3\n",
      "File already unzipped: GFZOP_RSO_L64_G_20230211_100000_20230212_000000_v02.sp3\n",
      "File already unzipped: GFZOP_RSO_L64_G_20230211_220000_20230212_120000_v02.sp3\n",
      "File already unzipped: GFZOP_RSO_L64_G_20230212_100000_20230213_000000_v02.sp3\n",
      "File already unzipped: GFZOP_RSO_L64_G_20230212_220000_20230213_120000_v02.sp3\n",
      "File already unzipped: GFZOP_RSO_L64_G_20230213_100000_20230214_000000_v02.sp3\n",
      "File already unzipped: GFZOP_RSO_L64_G_20230213_220000_20230214_120000_v02.sp3\n",
      "File already unzipped: GFZOP_RSO_L64_G_20230214_100000_20230215_000000_v02.sp3\n",
      "File already unzipped: GFZOP_RSO_L64_G_20230214_220000_20230215_120000_v02.sp3\n",
      "File already unzipped: GFZOP_RSO_L64_G_20230215_100000_20230216_000000_v02.sp3\n",
      "File already unzipped: GFZOP_RSO_L64_G_20230215_220000_20230216_120000_v02.sp3\n",
      "File already unzipped: GFZOP_RSO_L64_G_20230216_100000_20230217_000000_v02.sp3\n",
      "File already unzipped: GFZOP_RSO_L64_G_20230216_220000_20230217_120000_v02.sp3\n",
      "File already unzipped: GFZOP_RSO_L64_G_20230217_100000_20230218_000000_v02.sp3\n",
      "File already unzipped: GFZOP_RSO_L64_G_20230217_220000_20230218_120000_v02.sp3\n",
      "File already unzipped: GFZOP_RSO_L64_G_20230218_100000_20230219_000000_v02.sp3\n",
      "File already unzipped: GFZOP_RSO_L64_G_20230218_220000_20230219_120000_v02.sp3\n",
      "File already unzipped: GFZOP_RSO_L64_G_20230219_100000_20230220_000000_v02.sp3\n"
     ]
    }
   ],
   "source": [
    "# as the each file in the folder is zipped, we need to unzip them first\n",
    "for folder in folders:\n",
    "    # Iterate through all files in the current folder\n",
    "    for filename in os.listdir(os.path.join(sp3_raw_data_folder, folder)):\n",
    "        # Check if the file is a .gz file\n",
    "        if filename.endswith('.gz'):\n",
    "            gz_file_path = os.path.join(sp3_raw_data_folder, folder, filename)\n",
    "            output_file_path = os.path.join(sp3_raw_data_folder, folder, filename[:-3])  # Remove '.gz'\n",
    "\n",
    "            # Check if the uncompressed file already exists\n",
    "            if not os.path.exists(output_file_path):\n",
    "                # Unzip the file\n",
    "                with gzip.open(gz_file_path, 'rb') as f_in:\n",
    "                    with open(output_file_path, 'wb') as f_out:\n",
    "                        shutil.copyfileobj(f_in, f_out)\n",
    "                print(f\"Unzipped {filename} in {folder}\")\n",
    "            else:\n",
    "                print(f\"File already unzipped: {filename[:-3]}\")"
   ]
  },
  {
   "cell_type": "code",
   "execution_count": 5,
   "metadata": {},
   "outputs": [
    {
     "name": "stdout",
     "output_type": "stream",
     "text": [
      "Extracting SP3 data from folder 001...\n",
      "Extracting SP3 data from folder 002...\n",
      "Extracting SP3 data from folder 003...\n",
      "Extracting SP3 data from folder 004...\n",
      "Extracting SP3 data from folder 005...\n",
      "Extracting SP3 data from folder 006...\n",
      "Extracting SP3 data from folder 007...\n",
      "Extracting SP3 data from folder 008...\n",
      "Extracting SP3 data from folder 009...\n",
      "Extracting SP3 data from folder 010...\n",
      "Extracting SP3 data from folder 011...\n",
      "Extracting SP3 data from folder 012...\n",
      "Extracting SP3 data from folder 013...\n",
      "Extracting SP3 data from folder 014...\n",
      "Extracting SP3 data from folder 015...\n",
      "Extracting SP3 data from folder 016...\n",
      "Extracting SP3 data from folder 017...\n",
      "Extracting SP3 data from folder 018...\n",
      "Extracting SP3 data from folder 019...\n",
      "Extracting SP3 data from folder 020...\n",
      "Extracting SP3 data from folder 021...\n",
      "Extracting SP3 data from folder 022...\n",
      "Extracting SP3 data from folder 023...\n",
      "Extracting SP3 data from folder 024...\n",
      "Extracting SP3 data from folder 025...\n",
      "Extracting SP3 data from folder 026...\n",
      "Extracting SP3 data from folder 027...\n",
      "Extracting SP3 data from folder 028...\n",
      "Extracting SP3 data from folder 029...\n",
      "Extracting SP3 data from folder 030...\n",
      "Extracting SP3 data from folder 031...\n",
      "Extracting SP3 data from folder 032...\n",
      "Extracting SP3 data from folder 033...\n",
      "Extracting SP3 data from folder 034...\n",
      "Extracting SP3 data from folder 035...\n",
      "Extracting SP3 data from folder 036...\n",
      "Extracting SP3 data from folder 037...\n",
      "Extracting SP3 data from folder 038...\n",
      "Extracting SP3 data from folder 039...\n",
      "Extracting SP3 data from folder 040...\n",
      "Extracting SP3 data from folder 041...\n",
      "Extracting SP3 data from folder 042...\n",
      "Extracting SP3 data from folder 043...\n",
      "Extracting SP3 data from folder 044...\n",
      "Extracting SP3 data from folder 045...\n",
      "Extracting SP3 data from folder 046...\n",
      "Extracting SP3 data from folder 047...\n",
      "Extracting SP3 data from folder 048...\n",
      "Extracting SP3 data from folder 049...\n",
      "Extracting SP3 data from folder 050...\n",
      "168200\n",
      "2804\n"
     ]
    }
   ],
   "source": [
    "# extract the data from each folder\n",
    "raw_sp3_data = []\n",
    "for folder in folders:\n",
    "    print('Extracting SP3 data from folder {}...'.format(folder))\n",
    "    for filename in os.listdir(os.path.join(sp3_raw_data_folder, folder)):\n",
    "        if filename.endswith('.sp3'):\n",
    "            sp3_file_path = os.path.join(sp3_raw_data_folder, folder, filename)\n",
    "            temp_sp3_data = sp3.Product.from_file(sp3_file_path)\n",
    "            raw_sp3_data.append(temp_sp3_data.satellites[0].records)\n",
    "\n",
    "# flatten the list of lists\n",
    "raw_sp3_data = [item for sublist in raw_sp3_data for item in sublist]\n",
    "\n",
    "print(len(raw_sp3_data))\n",
    "\n"
   ]
  },
  {
   "cell_type": "code",
   "execution_count": 10,
   "metadata": {},
   "outputs": [
    {
     "name": "stdout",
     "output_type": "stream",
     "text": [
      "168200\n"
     ]
    }
   ],
   "source": [
    "output = raw_sp3_data # this would get hourly intervals\n",
    "\n",
    "print(len(output))\n",
    "\n",
    "# create a new folder to store the data\n",
    "if not os.path.isdir(os.path.join(os.getcwd(), 'RawData', output_folder)):\n",
    "    os.mkdir(output_folder)"
   ]
  },
  {
   "cell_type": "code",
   "execution_count": 11,
   "metadata": {},
   "outputs": [
    {
     "name": "stdout",
     "output_type": "stream",
     "text": [
      "Saved SP3 data to c:\\Users\\IT\\Documents\\UCL\\CatAnalysis\\RawData\\sp3_test\\L64_sp3_data.pkl\n"
     ]
    }
   ],
   "source": [
    "# save the list to a pickle file\n",
    "output_file_path = os.path.join(os.getcwd(), 'RawData', output_folder, f'{grace_satellite}_sp3_data.pkl')\n",
    "\n",
    "with open(output_file_path, 'wb') as f:\n",
    "    pickle.dump(output, f)\n",
    "\n",
    "print(f'Saved SP3 data to {output_file_path}')"
   ]
  }
 ],
 "metadata": {
  "kernelspec": {
   "display_name": "fspsim",
   "language": "python",
   "name": "python3"
  },
  "language_info": {
   "codemirror_mode": {
    "name": "ipython",
    "version": 3
   },
   "file_extension": ".py",
   "mimetype": "text/x-python",
   "name": "python",
   "nbconvert_exporter": "python",
   "pygments_lexer": "ipython3",
   "version": "3.9.18"
  }
 },
 "nbformat": 4,
 "nbformat_minor": 2
}
